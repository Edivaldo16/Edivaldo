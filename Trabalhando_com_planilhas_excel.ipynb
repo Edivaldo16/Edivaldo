{
  "nbformat": 4,
  "nbformat_minor": 0,
  "metadata": {
    "colab": {
      "name": "Trabalhando com planilhas excel.ipynb",
      "provenance": [],
      "collapsed_sections": [],
      "toc_visible": true,
      "authorship_tag": "ABX9TyPDAk5h6AYgWioe9n35q7FX",
      "include_colab_link": true
    },
    "kernelspec": {
      "name": "python3",
      "display_name": "Python 3"
    },
    "language_info": {
      "name": "python"
    }
  },
  "cells": [
    {
      "cell_type": "markdown",
      "metadata": {
        "id": "view-in-github",
        "colab_type": "text"
      },
      "source": [
        "<a href=\"https://colab.research.google.com/github/Edivaldo16/planilhas_excel_python/blob/master/Trabalhando_com_planilhas_excel.ipynb\" target=\"_parent\"><img src=\"https://colab.research.google.com/assets/colab-badge.svg\" alt=\"Open In Colab\"/></a>"
      ]
    },
    {
      "cell_type": "code",
      "metadata": {
        "id": "JYwFjbGaeEXg"
      },
      "source": [
        ""
      ],
      "execution_count": null,
      "outputs": []
    },
    {
      "cell_type": "markdown",
      "metadata": {
        "id": "dJ7J4IQqeNI3"
      },
      "source": [
        "# Trabalhando com Planilhas no Excel"
      ]
    },
    {
      "cell_type": "code",
      "metadata": {
        "id": "2HbmlwvzeTat"
      },
      "source": [
        "# Importando a Biblioteca \n",
        "\n",
        "import pandas as pd"
      ],
      "execution_count": null,
      "outputs": []
    },
    {
      "cell_type": "code",
      "metadata": {
        "id": "YfRJhX2medv-"
      },
      "source": [
        "# Leitura dos arquivos\n",
        "\n",
        "df1 = pd.read_excel(\"Aracaju.xlsx\")\n",
        "df2 = pd.read_excel(\"Fortaleza.xlsx\")\n",
        "df3 = pd.read_excel(\"Manaus.xlsx\")\n",
        "df4 = pd.read_excel(\"Ipojuca.xlsx\")\n",
        "df5 = pd.read_excel(\"Cabo.xlsx\")"
      ],
      "execution_count": null,
      "outputs": []
    },
    {
      "cell_type": "code",
      "metadata": {
        "id": "beDPYK2BfDI3"
      },
      "source": [
        "# Juntando todos os arquivos\n",
        "\n",
        "df = pd.convat([df1, df2, df3, df4, df5])"
      ],
      "execution_count": null,
      "outputs": []
    },
    {
      "cell_type": "code",
      "metadata": {
        "id": "ARsDR-uPfWNk"
      },
      "source": [
        "# Exibindo as 5 primeiras linhas\n",
        "\n",
        "df.head()"
      ],
      "execution_count": null,
      "outputs": []
    },
    {
      "cell_type": "code",
      "metadata": {
        "id": "XRE3uzFQff2h"
      },
      "source": [
        "# Exibindo as 5 últimas linhas\n",
        "\n",
        "df.tail()"
      ],
      "execution_count": null,
      "outputs": []
    }
  ]
}