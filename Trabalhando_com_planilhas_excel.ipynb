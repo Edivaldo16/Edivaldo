{
  "nbformat": 4,
  "nbformat_minor": 0,
  "metadata": {
    "colab": {
      "name": "Trabalhando com planilhas excel.ipynb",
      "provenance": [],
      "collapsed_sections": [],
      "toc_visible": true,
      "authorship_tag": "ABX9TyPPPERet68/T+diJp37GBX/",
      "include_colab_link": true
    },
    "kernelspec": {
      "name": "python3",
      "display_name": "Python 3"
    },
    "language_info": {
      "name": "python"
    }
  },
  "cells": [
    {
      "cell_type": "markdown",
      "metadata": {
        "id": "view-in-github",
        "colab_type": "text"
      },
      "source": [
        "<a href=\"https://colab.research.google.com/github/Edivaldo16/planilhas_excel_python/blob/master/Trabalhando_com_planilhas_excel.ipynb\" target=\"_parent\"><img src=\"https://colab.research.google.com/assets/colab-badge.svg\" alt=\"Open In Colab\"/></a>"
      ]
    },
    {
      "cell_type": "code",
      "metadata": {
        "id": "JYwFjbGaeEXg"
      },
      "source": [
        ""
      ],
      "execution_count": null,
      "outputs": []
    },
    {
      "cell_type": "markdown",
      "metadata": {
        "id": "dJ7J4IQqeNI3"
      },
      "source": [
        "# Trabalhando com Planilhas no Excel"
      ]
    },
    {
      "cell_type": "code",
      "metadata": {
        "id": "2HbmlwvzeTat"
      },
      "source": [
        "# Importando a Biblioteca \n",
        "\n",
        "import pandas as pd"
      ],
      "execution_count": null,
      "outputs": []
    },
    {
      "cell_type": "code",
      "metadata": {
        "id": "YfRJhX2medv-"
      },
      "source": [
        "# Leitura dos arquivos\n",
        "\n",
        "df1 = pd.read_excel(\"Aracaju.xlsx\")\n",
        "df2 = pd.read_excel(\"Fortaleza.xlsx\")\n",
        "df3 = pd.read_excel(\"Manaus.xlsx\")\n",
        "df4 = pd.read_excel(\"Ipojuca.xlsx\")\n",
        "df5 = pd.read_excel(\"Cabo.xlsx\")"
      ],
      "execution_count": null,
      "outputs": []
    },
    {
      "cell_type": "code",
      "metadata": {
        "id": "beDPYK2BfDI3"
      },
      "source": [
        "# Juntando todos os arquivos\n",
        "\n",
        "df = pd.convat([df1, df2, df3, df4, df5])"
      ],
      "execution_count": null,
      "outputs": []
    },
    {
      "cell_type": "code",
      "metadata": {
        "id": "ARsDR-uPfWNk"
      },
      "source": [
        "# Exibindo as 5 primeiras linhas\n",
        "\n",
        "df.head()"
      ],
      "execution_count": null,
      "outputs": []
    },
    {
      "cell_type": "code",
      "metadata": {
        "id": "XRE3uzFQff2h"
      },
      "source": [
        "# Exibindo as 5 últimas linhas\n",
        "\n",
        "df.tail()"
      ],
      "execution_count": null,
      "outputs": []
    },
    {
      "cell_type": "code",
      "metadata": {
        "id": "_78uJNsalQE3"
      },
      "source": [
        "# Exibindo o tipo de dado de uma determinada coluna\n",
        "\n",
        "df.dtypes"
      ],
      "execution_count": null,
      "outputs": []
    },
    {
      "cell_type": "code",
      "metadata": {
        "id": "EogLb7y3kzrS"
      },
      "source": [
        "# Alterando tipo de dado de uma determinada coluna\n",
        "\n",
        "df[\"LojaID\"] = df[\"LojaID\"].astype(\"object\")"
      ],
      "execution_count": null,
      "outputs": []
    },
    {
      "cell_type": "markdown",
      "metadata": {
        "id": "sAJeKv7glilg"
      },
      "source": [
        "## Tratando valores faltantes"
      ]
    },
    {
      "cell_type": "code",
      "metadata": {
        "id": "_7xvcGiUlprw"
      },
      "source": [
        "# Consultando linhas com valores faltantes\n",
        "\n",
        "df.isnull().sum()"
      ],
      "execution_count": null,
      "outputs": []
    },
    {
      "cell_type": "code",
      "metadata": {
        "id": "BRhbsyPmmLvD"
      },
      "source": [
        "# Substituindo os valores nulos pela média\n",
        "\n",
        "df[\"Vendas\"].fillna(df[\"Vendas\"].mean()) # substiuição do obejto só nessa célula\n",
        "df[\"Vendas\"].fillna(df[\"Vendas\"].mean(), inplace = True) # substiuição do obejto em memória"
      ],
      "execution_count": null,
      "outputs": []
    },
    {
      "cell_type": "code",
      "metadata": {
        "id": "HnCRt55pnYTb"
      },
      "source": [
        "# Substituindo os valores nulos por zeros\n",
        "\n",
        "df[\"Vendas\"].fillna(0, inplace = True) # substiuição do obejto em memória"
      ],
      "execution_count": null,
      "outputs": []
    },
    {
      "cell_type": "code",
      "metadata": {
        "id": "XeyXyJ55nvsh"
      },
      "source": [
        "# Apagando as linhas com valores nulos\n",
        "\n",
        "df.dropna(inplace=True)"
      ],
      "execution_count": null,
      "outputs": []
    },
    {
      "cell_type": "code",
      "metadata": {
        "id": "bmFonJ5hn8Ag"
      },
      "source": [
        "# Apagando as linhas com valores nulos com base apenas em uma coluna\n",
        "\n",
        "df.dropna(subset=[\"Vendas\"],inplace = True)"
      ],
      "execution_count": null,
      "outputs": []
    },
    {
      "cell_type": "code",
      "metadata": {
        "id": "_jgNaUSsoUkj"
      },
      "source": [
        "# Removendo linhas que estejam com valores faltantes em todas as colunas\n",
        "\n",
        "df.dropna(how='all',inplace = True)"
      ],
      "execution_count": null,
      "outputs": []
    },
    {
      "cell_type": "markdown",
      "metadata": {
        "id": "azfWUZ_eoqeU"
      },
      "source": [
        "## Criando Novas Colunas"
      ]
    },
    {
      "cell_type": "code",
      "metadata": {
        "id": "4JZBRZSNouXj"
      },
      "source": [
        "# Criando colunas através do produto de outras colunas\n",
        "\n",
        "df[\"Receitas\"] = df[\"Vendas\"].mul(df[\"Qtde\"]) #ou\n",
        "df[\"Receitas\"] = df[\"Vendas\"]*df[\"Qtde\"]"
      ],
      "execution_count": null,
      "outputs": []
    },
    {
      "cell_type": "code",
      "metadata": {
        "id": "jGmSWb8Vp-lT"
      },
      "source": [
        "# Criando colunas através da divisão de outras colunas\n",
        "\n",
        "df[\"Receitas/Vendas\"] = df[\"Receitas\"]/df[\"Vendas\"]"
      ],
      "execution_count": null,
      "outputs": []
    },
    {
      "cell_type": "code",
      "metadata": {
        "id": "8xCDghnbqRO-"
      },
      "source": [
        "# Retornando o maior valor de uma coluna \n",
        "\n",
        "df[\"Receitas\"].max()"
      ],
      "execution_count": null,
      "outputs": []
    },
    {
      "cell_type": "code",
      "metadata": {
        "id": "xR6wVx0bqbnK"
      },
      "source": [
        "# Retornando o menor valor de uma coluna \n",
        "\n",
        "df[\"Receitas\"].min()"
      ],
      "execution_count": null,
      "outputs": []
    },
    {
      "cell_type": "code",
      "metadata": {
        "id": "b9Ay8FgBrhZj"
      },
      "source": [
        "# Comando que traz os maiores valores de uma deternimada coluna 'variável'.nlargest(quantidade, \"Coluna\")\n",
        "\n",
        "df.nlargest(3, \"Receitas\")"
      ],
      "execution_count": null,
      "outputs": []
    },
    {
      "cell_type": "code",
      "metadata": {
        "id": "5L1CE7MvsBUC"
      },
      "source": [
        "# Comando que traz os menores valores de uma deternimada coluna 'variável'.nsmallest(quantidade, \"Coluna\")\n",
        "\n",
        "df.nsmallest(3, \"Receitas\")"
      ],
      "execution_count": null,
      "outputs": []
    },
    {
      "cell_type": "code",
      "metadata": {
        "id": "S0bnYuT1sRdT"
      },
      "source": [
        "# Agrupamento por cidade\n",
        "\n",
        "df.groupby(\"Cidade\")[\"Receita\"].sum()"
      ],
      "execution_count": null,
      "outputs": []
    },
    {
      "cell_type": "code",
      "metadata": {
        "id": "NRJwkUQdsvWm"
      },
      "source": [
        "# Ordenando o conjunto de dados\n",
        "\n",
        "df.sort_values(\"Receita\", ascending = False).head(10) # O comando ascending = false, retorna os valores do menor para o maior"
      ],
      "execution_count": null,
      "outputs": []
    }
  ]
}